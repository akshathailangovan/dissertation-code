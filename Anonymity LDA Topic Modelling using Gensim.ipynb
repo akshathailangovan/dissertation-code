{
 "cells": [
  {
   "cell_type": "markdown",
   "id": "0a619f56",
   "metadata": {},
   "source": [
    "# LDA Topic Modelling using Gensim"
   ]
  },
  {
   "cell_type": "code",
   "execution_count": 8,
   "id": "63fa8cea",
   "metadata": {},
   "outputs": [],
   "source": [
    "import pandas as pd\n",
    "\n",
    "#nlp libraries\n",
    "import nltk\n",
    "from nltk.corpus import stopwords\n",
    "\n",
    "#gensim libraries\n",
    "import gensim\n",
    "import gensim.corpora as corpora\n",
    "from gensim.models import CoherenceModel\n",
    "\n",
    "#spacy for lemmatisation\n",
    "import spacy\n",
    "\n",
    "import pyLDAvis\n",
    "import pyLDAvis.gensim\n",
    "\n",
    "import warnings\n",
    "warnings.filterwarnings(\"ignore\")"
   ]
  },
  {
   "cell_type": "code",
   "execution_count": 9,
   "id": "7c088ad3",
   "metadata": {},
   "outputs": [],
   "source": [
    "# Load data and add a column 'anonymity_class' for grouping\n",
    "data = pd.read_csv(\"threads_master_data.csv\")"
   ]
  },
  {
   "cell_type": "code",
   "execution_count": 10,
   "id": "badc093b",
   "metadata": {},
   "outputs": [
    {
     "name": "stderr",
     "output_type": "stream",
     "text": [
      "[nltk_data] Downloading package stopwords to\n",
      "[nltk_data]     /Users/akshathailangovan/nltk_data...\n",
      "[nltk_data]   Package stopwords is already up-to-date!\n"
     ]
    }
   ],
   "source": [
    "# Download NLTK stopwords if necessary\n",
    "nltk.download(\"stopwords\")\n",
    "stopwords = stopwords.words(\"english\")"
   ]
  },
  {
   "cell_type": "code",
   "execution_count": 11,
   "id": "3d93ab0e",
   "metadata": {},
   "outputs": [],
   "source": [
    "# Preprocessing: Lemmatization function\n",
    "def lemmatization(texts, allowed_postags=[\"NOUN\", \"ADJ\", \"VERB\", \"ADV\"]):\n",
    "    try:\n",
    "        nlp = spacy.load(\"en_core_web_sm\", disable=[\"parser\", \"ner\"])\n",
    "    except OSError:\n",
    "        # If model is not found, download it\n",
    "        import subprocess\n",
    "        subprocess.run([\"python\", \"-m\", \"spacy\", \"download\", \"en_core_web_sm\"])\n",
    "        nlp = spacy.load(\"en_core_web_sm\", disable=[\"parser\", \"ner\"])\n",
    "        \n",
    "    texts_out = []\n",
    "    for text in texts:\n",
    "        doc = nlp(text)\n",
    "        new_text = [token.lemma_ for token in doc if token.pos_ in allowed_postags]\n",
    "        texts_out.append(\" \".join(new_text))\n",
    "    return texts_out"
   ]
  },
  {
   "cell_type": "code",
   "execution_count": 12,
   "id": "6229a9be",
   "metadata": {},
   "outputs": [],
   "source": [
    "# Tokenization and removal of stopwords\n",
    "def gen_words(texts):\n",
    "    final = []\n",
    "    for text in texts:\n",
    "        new = gensim.utils.simple_preprocess(text, deacc=True)\n",
    "        final.append(new)\n",
    "    return final"
   ]
  },
  {
   "cell_type": "code",
   "execution_count": 13,
   "id": "d084f7c0",
   "metadata": {},
   "outputs": [],
   "source": [
    "# Function to process and build LDA for each anonymity class\n",
    "def process_group(df_group):\n",
    "    # Preprocessing step: Lemmatize the data\n",
    "    lemmatized_texts = lemmatization(df_group['Post_Content'].values.tolist())\n",
    "\n",
    "    # Tokenization and removal of stopwords\n",
    "    data_words = gen_words(lemmatized_texts)\n",
    "\n",
    "    # Create Dictionary and Corpus\n",
    "    id2word = corpora.Dictionary(data_words)\n",
    "    corpus = [id2word.doc2bow(text) for text in data_words]\n",
    "\n",
    "    # Build LDA model for this group\n",
    "    lda_model = gensim.models.ldamodel.LdaModel(corpus=corpus,\n",
    "                                                id2word=id2word,\n",
    "                                                num_topics=10,  # Adjust number of topics as needed\n",
    "                                                random_state=100,\n",
    "                                                update_every=1,\n",
    "                                                chunksize=100,\n",
    "                                                passes=10,\n",
    "                                                alpha='auto')\n",
    "    # Print coherence score\n",
    "    coherence_model_lda = CoherenceModel(model=lda_model, texts=data_words, dictionary=id2word, coherence='c_v')\n",
    "    coherence_score = coherence_model_lda.get_coherence()\n",
    "    print(f\"Coherence Score for Group {df_group['Anonymity_Class'].iloc[0]}: {coherence_score}\")\n",
    "\n",
    "    # Visualize the LDA model using pyLDAvis\n",
    "    pyLDAvis.enable_notebook()\n",
    "    vis = pyLDAvis.gensim.prepare(lda_model, corpus, id2word, mds=\"mmds\", R=10)\n",
    "    \n",
    "    return vis"
   ]
  },
  {
   "cell_type": "code",
   "execution_count": 14,
   "id": "3d3dbd1c",
   "metadata": {},
   "outputs": [
    {
     "name": "stdout",
     "output_type": "stream",
     "text": [
      "Processing Anonymity Class: Anonymous\n",
      "Coherence Score for Group Anonymous: 0.5353695473697434\n",
      "Processing Anonymity Class: Highly Identifiable\n",
      "Coherence Score for Group Highly Identifiable: 0.47332960453758827\n",
      "Processing Anonymity Class: Identifiable\n",
      "Coherence Score for Group Identifiable: 0.39321859876535725\n",
      "Processing Anonymity Class: Partially Anonymous\n",
      "Coherence Score for Group Partially Anonymous: 0.46587067272202126\n"
     ]
    }
   ],
   "source": [
    "# Grouping data by 'Anonymity_Class'\n",
    "grouped_data = data.groupby('Anonymity_Class')\n",
    "\n",
    "# Iterating over each group, processing it, and displaying the LDA visualization\n",
    "lda_vis_per_class = {}\n",
    "for anonymity_class, group in grouped_data:\n",
    "    print(f\"Processing Anonymity Class: {anonymity_class}\")\n",
    "    lda_vis_per_class[anonymity_class] = process_group(group)\n",
    "\n",
    "# Saving each LDA visualization separately\n",
    "for anonymity_class, vis in lda_vis_per_class.items():\n",
    "    pyLDAvis.save_html(vis, f'lda_topics_visualization_{anonymity_class}.html')"
   ]
  }
 ],
 "metadata": {
  "kernelspec": {
   "display_name": "Python 3 (ipykernel)",
   "language": "python",
   "name": "python3"
  },
  "language_info": {
   "codemirror_mode": {
    "name": "ipython",
    "version": 3
   },
   "file_extension": ".py",
   "mimetype": "text/x-python",
   "name": "python",
   "nbconvert_exporter": "python",
   "pygments_lexer": "ipython3",
   "version": "3.11.5"
  }
 },
 "nbformat": 4,
 "nbformat_minor": 5
}
